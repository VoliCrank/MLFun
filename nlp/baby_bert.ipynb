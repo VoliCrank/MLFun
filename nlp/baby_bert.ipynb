{
 "cells": [
  {
   "cell_type": "code",
   "execution_count": 82,
   "id": "56726162-bce3-464a-83c7-e9290006eef1",
   "metadata": {},
   "outputs": [],
   "source": [
    "from transformers import BertModel, BertTokenizer, logging\n",
    "import torch\n",
    "import numpy as np\n",
    "import re\n",
    "logging.set_verbosity_error()"
   ]
  },
  {
   "cell_type": "code",
   "execution_count": 67,
   "id": "5a045c16-a608-473a-ac07-4f26e7a59f04",
   "metadata": {},
   "outputs": [],
   "source": [
    "pos_path = 'E:/MLFun/data/aclImdb_v1/aclImdb/train/pos/'\n",
    "neg_path = 'E:/MLFun/data/aclImdb_v1/aclImdb/train/neg/'"
   ]
  },
  {
   "cell_type": "code",
   "execution_count": 79,
   "id": "ae14c0cb-4179-4bc2-94a3-9e68924f2605",
   "metadata": {},
   "outputs": [],
   "source": [
    "def get_data(data_path, val):\n",
    "    ret = []\n",
    "    files = glob.glob(data_path + \"*.txt\")\n",
    "    for fle in files:\n",
    "        with open(fle, encoding=\"utf8\") as f:\n",
    "            text = f.readlines()\n",
    "            ret.append((text,val))\n",
    "    return ret"
   ]
  },
  {
   "cell_type": "code",
   "execution_count": 80,
   "id": "4016771a-8445-4c50-b0b8-4540675de5cc",
   "metadata": {},
   "outputs": [],
   "source": [
    "X_train = []\n",
    "X_train += get_data(pos_path, 1) + get_data(neg_path, 0)"
   ]
  },
  {
   "cell_type": "code",
   "execution_count": null,
   "id": "f992f647-f515-4851-8ac9-0fda9848c1f5",
   "metadata": {},
   "outputs": [],
   "source": [
    "re.sub(\"\\<br\\>\", ' ',X_train[-1])"
   ]
  },
  {
   "cell_type": "code",
   "execution_count": null,
   "id": "64d67c00-0c23-413d-bb72-39b37b4676c9",
   "metadata": {},
   "outputs": [],
   "source": []
  }
 ],
 "metadata": {
  "kernelspec": {
   "display_name": "Python 3 (ipykernel)",
   "language": "python",
   "name": "python3"
  },
  "language_info": {
   "codemirror_mode": {
    "name": "ipython",
    "version": 3
   },
   "file_extension": ".py",
   "mimetype": "text/x-python",
   "name": "python",
   "nbconvert_exporter": "python",
   "pygments_lexer": "ipython3",
   "version": "3.9.5"
  }
 },
 "nbformat": 4,
 "nbformat_minor": 5
}
