{
 "cells": [
  {
   "cell_type": "code",
   "execution_count": 5,
   "id": "56726162-bce3-464a-83c7-e9290006eef1",
   "metadata": {},
   "outputs": [],
   "source": [
    "from transformers import BertModel, BertTokenizer, logging\n",
    "import torch\n",
    "import numpy as np\n",
    "import re\n",
    "import glob\n",
    "logging.set_verbosity_error()"
   ]
  },
  {
   "cell_type": "code",
   "execution_count": 6,
   "id": "5a045c16-a608-473a-ac07-4f26e7a59f04",
   "metadata": {},
   "outputs": [],
   "source": [
    "pos_path = 'E:/MLFun/data/aclImdb_v1/aclImdb/train/pos/'\n",
    "neg_path = 'E:/MLFun/data/aclImdb_v1/aclImdb/train/neg/'"
   ]
  },
  {
   "cell_type": "code",
   "execution_count": 90,
   "id": "ae14c0cb-4179-4bc2-94a3-9e68924f2605",
   "metadata": {},
   "outputs": [],
   "source": [
    "# cleans all the <br>'s for now. TODO: clean '\\' as well\n",
    "def clean(text):\n",
    "    ret = re.sub(r\"\\<br..\\>\", ' ', text)\n",
    "    return ret\n",
    "\n",
    "# get all txt files from given path and append appropriate training value\n",
    "def get_data(data_path, val):\n",
    "    ret = []\n",
    "    files = glob.glob(data_path + \"*.txt\")\n",
    "    for fle in files:\n",
    "        with open(fle, encoding=\"utf8\") as f:\n",
    "            text = f.readlines()[0]\n",
    "            clean(text)\n",
    "            ret.append((text,val))\n",
    "    return ret"
   ]
  },
  {
   "cell_type": "code",
   "execution_count": 91,
   "id": "4016771a-8445-4c50-b0b8-4540675de5cc",
   "metadata": {},
   "outputs": [],
   "source": [
    "X_train = []\n",
    "X_train += get_data(pos_path, 1) + get_data(neg_path, 0)"
   ]
  },
  {
   "cell_type": "code",
   "execution_count": 92,
   "id": "f992f647-f515-4851-8ac9-0fda9848c1f5",
   "metadata": {},
   "outputs": [
    {
     "data": {
      "text/plain": [
       "'Although the production and Jerry Jameson\\'s direction are definite improvements, \"Airport \\'77\" isn\\'t much better than \"Airport 1975\": slick, commercial rubbish submerging (this time literally) a decent cast. Jack Lemmon is the pilot of a packed airliner which gets hijacked by art thieves and crashes into the sea (all the publicity claimed it was near the Bermuda Triangle, but there\\'s no mention of it in the film itself). When the rescue ships come to raise the airplane out of the water, we see all their cranes dropping (rather blindly) into the ocean and it\\'s hard not to laugh (imagining the cranes plugging the plane, the passengers and the waterlogged script). NBC used to air what appeared to be the \"director\\'s cut\", with at least an hour of extra footage--mostly flashbacks--injected into the proceedings with all the subtlety of a \"Gilligan\\'s Island\" episode. Most exciting moment is the plane crash, and some of the players have a little fun: Lee Grant is an obnoxious drunk, Brenda Vaccaro a no-nonsense stewardess, Joseph Cotten and Olivia de Havilland are flirting oldsters. Still, the personality conflicts and the excruciating military detail eventually tear at one\\'s patience. ** from ****'"
      ]
     },
     "execution_count": 92,
     "metadata": {},
     "output_type": "execute_result"
    }
   ],
   "source": [
    "X_train[-7][0]"
   ]
  },
  {
   "cell_type": "code",
   "execution_count": null,
   "id": "352d4bf5-8d3b-48a6-815d-214c48cba29f",
   "metadata": {},
   "outputs": [],
   "source": []
  }
 ],
 "metadata": {
  "kernelspec": {
   "display_name": "Python 3 (ipykernel)",
   "language": "python",
   "name": "python3"
  },
  "language_info": {
   "codemirror_mode": {
    "name": "ipython",
    "version": 3
   },
   "file_extension": ".py",
   "mimetype": "text/x-python",
   "name": "python",
   "nbconvert_exporter": "python",
   "pygments_lexer": "ipython3",
   "version": "3.9.5"
  }
 },
 "nbformat": 4,
 "nbformat_minor": 5
}
