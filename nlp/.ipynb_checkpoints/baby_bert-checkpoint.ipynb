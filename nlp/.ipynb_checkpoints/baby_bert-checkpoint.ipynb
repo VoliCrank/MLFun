{
 "cells": [
  {
   "cell_type": "code",
   "execution_count": 1,
   "id": "56726162-bce3-464a-83c7-e9290006eef1",
   "metadata": {},
   "outputs": [],
   "source": [
    "from transformers import BertModel, BertTokenizer, logging\n",
    "import torch\n",
    "import numpy as np\n",
    "logging.set_verbosity_error()"
   ]
  },
  {
   "cell_type": "code",
   "execution_count": 3,
   "id": "5a045c16-a608-473a-ac07-4f26e7a59f04",
   "metadata": {},
   "outputs": [],
   "source": [
    "data_path = '../data/acllmdb_v1/acllmdb'"
   ]
  },
  {
   "cell_type": "code",
   "execution_count": null,
   "id": "db5d2a4c-03b9-450d-bd2f-a1da8b6ffbc2",
   "metadata": {},
   "outputs": [],
   "source": []
  }
 ],
 "metadata": {
  "kernelspec": {
   "display_name": "Python 3 (ipykernel)",
   "language": "python",
   "name": "python3"
  },
  "language_info": {
   "codemirror_mode": {
    "name": "ipython",
    "version": 3
   },
   "file_extension": ".py",
   "mimetype": "text/x-python",
   "name": "python",
   "nbconvert_exporter": "python",
   "pygments_lexer": "ipython3",
   "version": "3.9.5"
  }
 },
 "nbformat": 4,
 "nbformat_minor": 5
}
